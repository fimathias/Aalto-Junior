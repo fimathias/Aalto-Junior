{
 "cells": [
  {
   "cell_type": "markdown",
   "id": "258b4ff2",
   "metadata": {},
   "source": [
    "# Optimointi pythonilla\n",
    "Optimointia voi myös tehdä tietokoneen avulla. Tässä tapauksessa käytetään pythonia.Tätä varten tarvitsen **pulp** libraryn"
   ]
  },
  {
   "cell_type": "code",
   "execution_count": null,
   "id": "f2d86796",
   "metadata": {},
   "outputs": [],
   "source": [
    "pip install pulp"
   ]
  },
  {
   "cell_type": "code",
   "execution_count": 4,
   "id": "b10f1dda",
   "metadata": {},
   "outputs": [],
   "source": [
    "from pulp import LpMaximize, LpProblem, LpVariable, value"
   ]
  },
  {
   "cell_type": "markdown",
   "id": "af89387a",
   "metadata": {},
   "source": [
    "# Inputs\n",
    "Käytämme samaa esimerkkiä kuin aikaisemmin, eli rakennamme tuolia ja pöytiä legoilla."
   ]
  },
  {
   "cell_type": "code",
   "execution_count": 28,
   "id": "f0ba7ae8",
   "metadata": {},
   "outputs": [],
   "source": [
    "# Lego määrät\n",
    "lego_pieni_määrä = 9\n",
    "lego_iso_määrä = 7\n",
    "\n",
    "# Lego hinnat\n",
    "lego_pieni_hinta = 3\n",
    "lego_iso_hinta = 5\n",
    "\n",
    "# Tuotteiden hinnat\n",
    "tuoli_myyntihinta = 21\n",
    "pöytä_myyntihinta = 32"
   ]
  },
  {
   "cell_type": "markdown",
   "id": "36bfa6e1",
   "metadata": {},
   "source": [
    "# Määritellään funktiot\n"
   ]
  },
  {
   "cell_type": "code",
   "execution_count": 29,
   "id": "1db21e50",
   "metadata": {},
   "outputs": [],
   "source": [
    "model = LpProblem(name=\"optimointi\", sense=LpMaximize)"
   ]
  },
  {
   "cell_type": "code",
   "execution_count": 30,
   "id": "40100c32",
   "metadata": {},
   "outputs": [],
   "source": [
    "tuolit = LpVariable(name=\"tuolit\", lowBound=0, cat='Integer')\n",
    "pöydät = LpVariable(name=\"pöydät\", lowBound=0, cat='Integer')"
   ]
  },
  {
   "cell_type": "markdown",
   "id": "add0f62a",
   "metadata": {},
   "source": [
    "Määritellään seuraavaksi myyntivoitto funktiot. Yhteen tuoliin tarvitaan 1 kpl pieni ja 2 kpl isoa legoja, yhteen pöytään tarvitaan 2 kpl pientä ja 2 kpl isoa palaa. x_1 on pienten lego palojen määrä ja x_2 on isojen lego palojen määrä\n",
    "\n"
   ]
  },
  {
   "cell_type": "markdown",
   "id": "e5f4f7c6",
   "metadata": {},
   "source": [
    "Halutaan maksimoida myyntivoitomme, eli lisätään modelliin seuraava funktio:\n",
    "     \n",
    "$${tuoli\\:myynti\\:hinta*tuolit+pöytä\\:myynti\\:hinta*pöydät-lego\\:pieni\\:hinta*(x_1)-lego\\:iso\\:hinta*(x_2)}$$\n",
    "\n",
    "missä\n",
    "   \n",
    "$$x_1 = {2*tuolit+2*pöydät}$$\n",
    "$$x_2 = {1*tuolit+2*pöydät}$$"
   ]
  },
  {
   "cell_type": "code",
   "execution_count": 31,
   "id": "a0505a5e",
   "metadata": {},
   "outputs": [],
   "source": [
    "model += (tuoli_myyntihinta * tuolit + pöytä_myyntihinta * pöydät\n",
    "          - lego_pieni_hinta * (2 * tuolit + 2 * pöydät)\n",
    "          - lego_iso_hinta * (tuolit + 2 * pöydät)), \"voitto\""
   ]
  },
  {
   "cell_type": "markdown",
   "id": "1595ed39",
   "metadata": {},
   "source": [
    "# Rajoitteet\n",
    "Koska meillä on tietyt rajoitteet, niitäkin pitäisi määritellä. Meillä oli 8 pieniä paloja ja 6 isoja.\n",
    "\n",
    "$${2*tuolit+2*pöydät} \\le lego\\:pieni\\:määrä$$\n",
    "$${1*tuolit+2*pöydät} \\le lego\\:iso\\:määrä$$"
   ]
  },
  {
   "cell_type": "code",
   "execution_count": 32,
   "id": "4d11e033",
   "metadata": {},
   "outputs": [],
   "source": [
    "model += (2 * tuolit + 2 * pöydät <= lego_pieni_määrä, \"pieni_rajoite\")\n",
    "model += (tuolit + 2 * pöydät <= lego_iso_määrä, \"iso_rajoite\")"
   ]
  },
  {
   "cell_type": "markdown",
   "id": "f80d7044",
   "metadata": {},
   "source": [
    "# Lasketaan lopputulos\n",
    "Lasketaan lopputulos"
   ]
  },
  {
   "cell_type": "code",
   "execution_count": 33,
   "id": "bd722801",
   "metadata": {
    "scrolled": false
   },
   "outputs": [
    {
     "data": {
      "text/plain": [
       "1"
      ]
     },
     "execution_count": 33,
     "metadata": {},
     "output_type": "execute_result"
    }
   ],
   "source": [
    "model.solve()"
   ]
  },
  {
   "cell_type": "markdown",
   "id": "2b67764c",
   "metadata": {},
   "source": [
    "Tulostetaan lopputulos, eli optimaali määrä tuolia ja pöytiä. Sen lisäksi voidaan myös tulostaa myyntivoiton."
   ]
  },
  {
   "cell_type": "code",
   "execution_count": 34,
   "id": "6ac91873",
   "metadata": {},
   "outputs": [
    {
     "name": "stdout",
     "output_type": "stream",
     "text": [
      "Optimiratkaisu:\n",
      "Tuolia: 1\n",
      "Pöytiä: 3\n",
      "\n",
      "Myyntivoitto: $58.00\n",
      "\n",
      "Leftover small Legos: 1\n",
      "Leftover big Legos: 0\n",
      "\n",
      "Myyntihinta: $117.00\n"
     ]
    }
   ],
   "source": [
    "# Tulostetaan optimiratkaisu\n",
    "print(\"Optimiratkaisu:\")\n",
    "print(f\"Tuolia: {int(tuolit.varValue)}\")\n",
    "print(f\"Pöytiä: {int(pöydät.varValue)}\")\n",
    "\n",
    "# Tulostetaan myyntivoitto\n",
    "total_profit = value(model.objective)\n",
    "print(f\"\\nMyyntivoitto: ${total_profit:.2f}\\n\")\n",
    "\n",
    "# Jäikö jotain yli?\n",
    "käytetyt_pienet = 2 * int(tuolit.varValue) + 2 * int(pöydät.varValue)\n",
    "käytetyt_isot = int(tuolit.varValue) + 2 * int(pöydät.varValue)\n",
    "\n",
    "leftover_small_legos = lego_pieni_määrä - käytetyt_pienet\n",
    "leftover_big_legos = lego_iso_määrä - käytetyt_isot\n",
    "\n",
    "print(f\"Leftover small Legos: {leftover_small_legos}\")\n",
    "print(f\"Leftover big Legos: {leftover_big_legos}\")\n",
    "\n",
    "# Tulostetaan myyntihinta\n",
    "myyntihinta = (tuoli_myyntihinta * int(tuolit.varValue)) + (pöytä_myyntihinta * int(pöydät.varValue))\n",
    "print(f\"\\nMyyntihinta: ${myyntihinta:.2f}\")\n"
   ]
  },
  {
   "cell_type": "markdown",
   "id": "98609f81",
   "metadata": {},
   "source": [
    "# Lisätehtävä\n",
    "Mitä jos sinulla on 100 pintä ja 85 isoa Legoa? Mitä on optimaaliratkaisu?"
   ]
  }
 ],
 "metadata": {
  "kernelspec": {
   "display_name": "Python 3 (ipykernel)",
   "language": "python",
   "name": "python3"
  },
  "language_info": {
   "codemirror_mode": {
    "name": "ipython",
    "version": 3
   },
   "file_extension": ".py",
   "mimetype": "text/x-python",
   "name": "python",
   "nbconvert_exporter": "python",
   "pygments_lexer": "ipython3",
   "version": "3.11.5"
  }
 },
 "nbformat": 4,
 "nbformat_minor": 5
}
