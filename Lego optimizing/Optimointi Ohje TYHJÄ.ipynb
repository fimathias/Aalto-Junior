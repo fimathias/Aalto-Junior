{
 "cells": [
  {
   "cell_type": "markdown",
   "id": "258b4ff2",
   "metadata": {},
   "source": [
    "# Optimointi pythonilla\n",
    "Optimointia voi myös tehdä tietokoneen avulla. Tässä tapauksessa käytetään pythonia.Tätä varten tarvitsen **pulp** libraryn ja sieltä seuraavat funktiot."
   ]
  },
  {
   "cell_type": "markdown",
   "id": "4035b55b",
   "metadata": {},
   "source": [
    "Mikäli **pulp** puuttuu tietokoneeltasi, voit asentaa sen näin:"
   ]
  },
  {
   "cell_type": "code",
   "execution_count": null,
   "id": "f9ff39f1",
   "metadata": {},
   "outputs": [],
   "source": [
    "pip install pulp"
   ]
  },
  {
   "cell_type": "code",
   "execution_count": null,
   "id": "b10f1dda",
   "metadata": {},
   "outputs": [],
   "source": [
    "from pulp import LpMaximize, LpProblem, LpVariable, value"
   ]
  },
  {
   "cell_type": "markdown",
   "id": "af89387a",
   "metadata": {},
   "source": [
    "# Inputs\n",
    "Käytämme samaa esimerkkiä kuin aikaisemmin, eli **rakennamme tuoleja ja pöytiä legoilla**. Tätä varten ohjelmaan syötetään erikokoisten legojen määrät ja hinnat, sekä valmiiden huonekalujen myyntihinnat. Nämä tiedot tallennetaan **muuttujiin**."
   ]
  },
  {
   "cell_type": "markdown",
   "id": "b5d349b8",
   "metadata": {},
   "source": [
    "Määrittele seuraavat muuttajat:\n",
    "- Pienet ja isot lego määrät\n",
    "- Niitten hinnat\n",
    "- Tuotteiden hinnat"
   ]
  },
  {
   "cell_type": "code",
   "execution_count": null,
   "id": "f0ba7ae8",
   "metadata": {},
   "outputs": [],
   "source": [
    "# Legojen määrät:\n",
    "lego_pieni_määrä = \n",
    "lego_iso_määrä = \n",
    "\n",
    "# Legojen hinnat:\n",
    "lego_pieni_hinta = \n",
    "lego_iso_hinta = \n",
    "\n",
    "# Tuotteiden hinnat:\n",
    "tuoli_myyntihinta = \n",
    "pöytä_myyntihinta = "
   ]
  },
  {
   "cell_type": "markdown",
   "id": "36bfa6e1",
   "metadata": {},
   "source": [
    "# Määritellään funktiot"
   ]
  },
  {
   "cell_type": "code",
   "execution_count": null,
   "id": "84153bfc",
   "metadata": {},
   "outputs": [],
   "source": [
    "model = LpProblem(name=\"optimointi\", sense=LpMaximize)"
   ]
  },
  {
   "cell_type": "code",
   "execution_count": null,
   "id": "40100c32",
   "metadata": {},
   "outputs": [],
   "source": [
    "tuolit = LpVariable(name=\"tuolit\", lowBound=0, cat='Integer')\n",
    "pöydät = LpVariable(name=\"pöydät\", lowBound=0, cat='Integer')"
   ]
  },
  {
   "cell_type": "markdown",
   "id": "022a7b9f",
   "metadata": {},
   "source": [
    "Määritellään seuraavaksi myyntivoitto funktiot. Yhteen tuoliin tarvitaan 1 kpl pieni ja 2 kpl isoa legoja, yhteen pöytään tarvitaan 2 kpl pientä ja 2 kpl isoa palaa. x_1 on pienten lego palojen määrä ja x_2 on isojen lego palojen määrä"
   ]
  },
  {
   "cell_type": "markdown",
   "id": "47aff229",
   "metadata": {},
   "source": [
    "Halutaan maksimoida myyntivoitomme, eli lisätään modelliin seuraava funktio:\n",
    "     \n",
    "$${tuoli\\:myynti\\:hinta*tuolit+pöytä\\:myynti\\:hinta*pöydät-lego\\:pieni\\:hinta*(x_1)-lego\\:iso\\:hinta*(x_2)}$$\n",
    "\n",
    "missä\n",
    "   \n",
    "$$x_1 = {2*tuolit+2*pöydät}$$\n",
    "$$x_2 = {1*tuolit+2*pöydät}$$"
   ]
  },
  {
   "cell_type": "markdown",
   "id": "7a5bab98",
   "metadata": {},
   "source": [
    "(tuoli_myyntihinta * tuolit + pöytä_myyntihinta * pöydät\n",
    "          - lego_pieni_hinta * (2 * tuolit + 2 * pöydät)\n",
    "          - lego_iso_hinta * (tuolit + 2 * pöydät))"
   ]
  },
  {
   "cell_type": "code",
   "execution_count": null,
   "id": "863566ac",
   "metadata": {},
   "outputs": [],
   "source": [
    "model += # Kirjaa tai kopioi ylläoleva funktio tähän\n",
    "\n",
    ", \"voitto\""
   ]
  },
  {
   "cell_type": "markdown",
   "id": "1595ed39",
   "metadata": {},
   "source": [
    "# Rajoitteet\n",
    "Tuolien ja pöytien rakentamiseen liittyi myös tiettyjä rajoitteita, jotka pitää ottaa huomioon; Paloikoita on saatavilla vain 8 pientä palaa ja 6 isoa.\n",
    "\n",
    "$${2*tuolit+2*pöydät} \\le lego\\:pieni\\:määrä$$\n",
    "$${1*tuolit+2*pöydät} \\le lego\\:iso\\:määrä$$"
   ]
  },
  {
   "cell_type": "markdown",
   "id": "0bfc90df",
   "metadata": {},
   "source": [
    "2 * tuolit + 2 * pöydät <= lego_pieni_määrä\n",
    "tuolit + 2 * pöydät <= lego_iso_määrä"
   ]
  },
  {
   "cell_type": "code",
   "execution_count": null,
   "id": "4d11e033",
   "metadata": {},
   "outputs": [],
   "source": [
    "model += # Kirjaa tai kopioi ylläoleva funktio tähän\n",
    ", \"pieni_rajoite\")\n",
    "model += # Kirjaa tai kopioi ylläoleva funktio tähän\n",
    ", \"iso_rajoite\")"
   ]
  },
  {
   "cell_type": "markdown",
   "id": "f80d7044",
   "metadata": {},
   "source": [
    "# Lasketaan lopputulos\n",
    "Tulostetaan lopputulos, eli optimaalinen määrä tuoleja ja pöytiä. Sen lisäksi voidaan myös tulostaa näiden tuottama myyntivoitto."
   ]
  },
  {
   "cell_type": "code",
   "execution_count": null,
   "id": "20416737",
   "metadata": {},
   "outputs": [],
   "source": [
    "model.solve()"
   ]
  },
  {
   "cell_type": "code",
   "execution_count": null,
   "id": "6ac91873",
   "metadata": {},
   "outputs": [],
   "source": [
    "# Tulostetaan optimiratkaisu\n",
    "print(\"Optimiratkaisu:\")\n",
    "print(f\"Tuolia: {int(tuolit.varValue)}\")\n",
    "print(f\"Pöytiä: {int(pöydät.varValue)}\")\n",
    "\n",
    "# Tulostetaan myyntivoitto\n",
    "total_profit = value(model.objective)\n",
    "print(f\"\\nMyyntivoitto: ${total_profit:.2f}\\n\")\n",
    "\n",
    "# Jäikö jotain yli?\n",
    "käytetyt_pienet = 2 * int(tuolit.varValue) + 2 * int(pöydät.varValue)\n",
    "käytetyt_isot = int(tuolit.varValue) + 2 * int(pöydät.varValue)\n",
    "\n",
    "lego_pieni_yli = lego_pieni_määrä - käytetyt_pienet\n",
    "lego_iso_yli = lego_iso_määrä - käytetyt_isot\n",
    "\n",
    "print(f\"{lego_pieni_yli} kpl pieniä legoja jäi yli.\")\n",
    "print(f\"{lego_iso_yli} kpl isoja legoja jäi yli.\")\n",
    "\n",
    "# Tulostetaan myyntihinta\n",
    "myyntihinta = (tuoli_myyntihinta * int(tuolit.varValue)) + (pöytä_myyntihinta * int(pöydät.varValue))\n",
    "print(f\"\\nMyyntihinta: {myyntihinta:.2f}€\")"
   ]
  },
  {
   "cell_type": "markdown",
   "id": "98609f81",
   "metadata": {},
   "source": [
    "# Lisätehtävä\n",
    "Entäs jos sinulla onkin 100 pientä ja 85 isoa legoa? Mikä silloin on optimaaliratkaisu?"
   ]
  }
 ],
 "metadata": {
  "kernelspec": {
   "display_name": "Python 3 (ipykernel)",
   "language": "python",
   "name": "python3"
  },
  "language_info": {
   "codemirror_mode": {
    "name": "ipython",
    "version": 3
   },
   "file_extension": ".py",
   "mimetype": "text/x-python",
   "name": "python",
   "nbconvert_exporter": "python",
   "pygments_lexer": "ipython3",
   "version": "3.11.5"
  }
 },
 "nbformat": 4,
 "nbformat_minor": 5
}
