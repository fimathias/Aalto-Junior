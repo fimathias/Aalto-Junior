{
 "cells": [
  {
   "cell_type": "markdown",
   "id": "c62b19b6",
   "metadata": {},
   "source": [
    "# Optimointi pythonilla\n",
    "Optimointia voi myös tehdä tietokoneen avulla. Tässä tapauksessa käytetään pythonia.Tätä varten tarvitsen **pulp** libraryn ja sieltä seuraavat funktiot."
   ]
  },
  {
   "cell_type": "markdown",
   "id": "6f622fdd",
   "metadata": {},
   "source": [
    "Mikäli **pulp** puuttuu tietokoneeltasi, voit asentaa sen näin:"
   ]
  },
  {
   "cell_type": "code",
   "execution_count": null,
   "id": "dfeb6c05",
   "metadata": {},
   "outputs": [],
   "source": [
    "pip install pulp"
   ]
  },
  {
   "cell_type": "code",
   "execution_count": 1,
   "id": "4ce45d31",
   "metadata": {},
   "outputs": [],
   "source": [
    "from pulp import LpMaximize, LpProblem, LpVariable, value"
   ]
  },
  {
   "cell_type": "markdown",
   "id": "8bda0bea",
   "metadata": {},
   "source": [
    "# Inputs\n",
    "Käytämme samaa esimerkkiä kuin aikaisemmin, eli **rakennamme tuoleja ja pöytiä legoilla**. Tätä varten ohjelmaan syötetään erikokoisten legojen määrät ja hinnat, sekä valmiiden huonekalujen myyntihinnat. Nämä tiedot tallennetaan **muuttujiin**."
   ]
  },
  {
   "cell_type": "code",
   "execution_count": 9,
   "id": "59af31f7",
   "metadata": {},
   "outputs": [],
   "source": [
    "# Lego määrät\n",
    "lego_pieni_määrä = 8\n",
    "lego_iso_määrä = 6\n",
    "\n",
    "# Lego hinnat\n",
    "lego_pieni_hinta = 3\n",
    "lego_iso_hinta = 5\n",
    "\n",
    "# Tuotteiden hinnat\n",
    "tuoli_myyntihinta = 21\n",
    "pöytä_myyntihinta = 32"
   ]
  },
  {
   "cell_type": "markdown",
   "id": "b239aa48",
   "metadata": {},
   "source": [
    "# Määritellään funktiot"
   ]
  },
  {
   "cell_type": "code",
   "execution_count": 10,
   "id": "4c0b1d6d",
   "metadata": {},
   "outputs": [],
   "source": [
    "model = LpProblem(name=\"optimointi\", sense=LpMaximize)"
   ]
  },
  {
   "cell_type": "code",
   "execution_count": 11,
   "id": "382f366d",
   "metadata": {},
   "outputs": [],
   "source": [
    "tuolit = LpVariable(name=\"tuolit\", lowBound=0, cat='Integer')\n",
    "pöydät = LpVariable(name=\"pöydät\", lowBound=0, cat='Integer')"
   ]
  },
  {
   "cell_type": "markdown",
   "id": "da78b6af",
   "metadata": {},
   "source": [
    "Määritellään seuraavaksi myyntivoitto funktiot. Yhteen tuoliin tarvitaan 1 kpl pieni ja 2 kpl isoa legoja, yhteen pöytään tarvitaan 2 kpl pientä ja 2 kpl isoa palaa. x_1 on pienten lego palojen määrä ja x_2 on isojen lego palojen määrä"
   ]
  },
  {
   "cell_type": "markdown",
   "id": "85d67922",
   "metadata": {},
   "source": [
    "Halutaan maksimoida myyntivoitomme, eli lisätään modelliin seuraava funktio:\n",
    "     \n",
    "$${tuoli\\:myynti\\:hinta*tuolit+pöytä\\:myynti\\:hinta*pöydät-lego\\:pieni\\:hinta*(x_1)-lego\\:iso\\:hinta*(x_2)}$$\n",
    "\n",
    "missä\n",
    "   \n",
    "$$x_1 = {2*tuolit+2*pöydät}$$\n",
    "$$x_2 = {1*tuolit+2*pöydät}$$"
   ]
  },
  {
   "cell_type": "code",
   "execution_count": 12,
   "id": "8b85af81",
   "metadata": {},
   "outputs": [],
   "source": [
    "model += (tuoli_myyntihinta * tuolit + pöytä_myyntihinta * pöydät\n",
    "          - lego_pieni_hinta * (2 * tuolit + 2 * pöydät)\n",
    "          - lego_iso_hinta * (tuolit + 2 * pöydät)), \"voitto\""
   ]
  },
  {
   "cell_type": "markdown",
   "id": "e9f5f621",
   "metadata": {},
   "source": [
    "# Rajoitteet\n",
    "Tuolien ja pöytien rakentamiseen liittyi myös tiettyjä rajoitteita, jotka pitää ottaa huomioon; Paloikoita on saatavilla vain 8 pientä palaa ja 6 isoa.\n",
    "\n",
    "$${2*tuolit+2*pöydät} \\le lego\\:pieni\\:määrä$$\n",
    "$${1*tuolit+2*pöydät} \\le lego\\:iso\\:määrä$$"
   ]
  },
  {
   "cell_type": "code",
   "execution_count": 13,
   "id": "316ed16d",
   "metadata": {},
   "outputs": [],
   "source": [
    "model += (2 * tuolit + 2 * pöydät <= lego_pieni_määrä, \"pieni_rajoite\")\n",
    "model += (tuolit + 2 * pöydät <= lego_iso_määrä, \"iso_rajoite\")"
   ]
  },
  {
   "cell_type": "markdown",
   "id": "7144ecb0",
   "metadata": {},
   "source": [
    "# Lasketaan lopputulos\n",
    "Tulostetaan lopputulos, eli optimaalinen määrä tuoleja ja pöytiä. Sen lisäksi voidaan myös tulostaa näiden tuottama myyntivoitto."
   ]
  },
  {
   "cell_type": "code",
   "execution_count": 14,
   "id": "2959c797",
   "metadata": {},
   "outputs": [
    {
     "data": {
      "text/plain": [
       "1"
      ]
     },
     "execution_count": 14,
     "metadata": {},
     "output_type": "execute_result"
    }
   ],
   "source": [
    "model.solve()"
   ]
  },
  {
   "cell_type": "code",
   "execution_count": 15,
   "id": "b9dd0ffb",
   "metadata": {},
   "outputs": [
    {
     "name": "stdout",
     "output_type": "stream",
     "text": [
      "Optimiratkaisu:\n",
      "Tuolia: 2\n",
      "Pöytiä: 2\n",
      "\n",
      "Myyntivoitto: $52.00\n",
      "\n",
      "0 kpl pieniä legoja jäi yli.\n",
      "0 kpl isoja legoja jäi yli.\n",
      "\n",
      "Myyntihinta: 106.00€\n"
     ]
    }
   ],
   "source": [
    "# Tulostetaan optimiratkaisu\n",
    "print(\"Optimiratkaisu:\")\n",
    "print(f\"Tuolia: {int(tuolit.varValue)}\")\n",
    "print(f\"Pöytiä: {int(pöydät.varValue)}\")\n",
    "\n",
    "# Tulostetaan myyntivoitto\n",
    "total_profit = value(model.objective)\n",
    "print(f\"\\nMyyntivoitto: ${total_profit:.2f}\\n\")\n",
    "\n",
    "# Jäikö jotain yli?\n",
    "käytetyt_pienet = 2 * int(tuolit.varValue) + 2 * int(pöydät.varValue)\n",
    "käytetyt_isot = int(tuolit.varValue) + 2 * int(pöydät.varValue)\n",
    "\n",
    "lego_pieni_yli = lego_pieni_määrä - käytetyt_pienet\n",
    "lego_iso_yli = lego_iso_määrä - käytetyt_isot\n",
    "\n",
    "print(f\"{lego_pieni_yli} kpl pieniä legoja jäi yli.\")\n",
    "print(f\"{lego_iso_yli} kpl isoja legoja jäi yli.\")\n",
    "\n",
    "# Tulostetaan myyntihinta\n",
    "myyntihinta = (tuoli_myyntihinta * int(tuolit.varValue)) + (pöytä_myyntihinta * int(pöydät.varValue))\n",
    "print(f\"\\nMyyntihinta: {myyntihinta:.2f}€\")"
   ]
  },
  {
   "cell_type": "markdown",
   "id": "3dd3bc50",
   "metadata": {},
   "source": [
    "# Lisätehtävä\n",
    "Mitä jos sinulla on 100 pintä ja 85 isoa Legoa? Mitä on optimaaliratkaisu?"
   ]
  }
 ],
 "metadata": {
  "kernelspec": {
   "display_name": "Python 3 (ipykernel)",
   "language": "python",
   "name": "python3"
  },
  "language_info": {
   "codemirror_mode": {
    "name": "ipython",
    "version": 3
   },
   "file_extension": ".py",
   "mimetype": "text/x-python",
   "name": "python",
   "nbconvert_exporter": "python",
   "pygments_lexer": "ipython3",
   "version": "3.11.5"
  }
 },
 "nbformat": 4,
 "nbformat_minor": 5
}
